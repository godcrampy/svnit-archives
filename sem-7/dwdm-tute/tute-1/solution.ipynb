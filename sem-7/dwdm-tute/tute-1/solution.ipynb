{
 "cells": [
  {
   "cell_type": "code",
   "execution_count": 1,
   "id": "5ca80c6b",
   "metadata": {},
   "outputs": [],
   "source": [
    "import numpy as np\n",
    "import pandas as pd\n",
    "import matplotlib.pyplot as plt\n",
    "import os"
   ]
  },
  {
   "cell_type": "code",
   "execution_count": 2,
   "id": "cc1ccb96",
   "metadata": {
    "scrolled": true
   },
   "outputs": [
    {
     "data": {
      "text/html": [
       "<div>\n",
       "<style scoped>\n",
       "    .dataframe tbody tr th:only-of-type {\n",
       "        vertical-align: middle;\n",
       "    }\n",
       "\n",
       "    .dataframe tbody tr th {\n",
       "        vertical-align: top;\n",
       "    }\n",
       "\n",
       "    .dataframe thead th {\n",
       "        text-align: right;\n",
       "    }\n",
       "</style>\n",
       "<table border=\"1\" class=\"dataframe\">\n",
       "  <thead>\n",
       "    <tr style=\"text-align: right;\">\n",
       "      <th></th>\n",
       "      <th>A</th>\n",
       "      <th>B</th>\n",
       "      <th>C</th>\n",
       "      <th>D</th>\n",
       "      <th>Left Skew</th>\n",
       "      <th>Multimodal</th>\n",
       "      <th>IQ20</th>\n",
       "      <th>IQ100</th>\n",
       "    </tr>\n",
       "  </thead>\n",
       "  <tbody>\n",
       "    <tr>\n",
       "      <th>0</th>\n",
       "      <td>48.916926</td>\n",
       "      <td>67.223785</td>\n",
       "      <td>55.917225</td>\n",
       "      <td>45.561471</td>\n",
       "      <td>23.1</td>\n",
       "      <td>37.632318</td>\n",
       "      <td>120.459951</td>\n",
       "      <td>93.041368</td>\n",
       "    </tr>\n",
       "    <tr>\n",
       "      <th>1</th>\n",
       "      <td>47.692726</td>\n",
       "      <td>68.175751</td>\n",
       "      <td>30.174288</td>\n",
       "      <td>47.825783</td>\n",
       "      <td>18.2</td>\n",
       "      <td>49.244001</td>\n",
       "      <td>107.418864</td>\n",
       "      <td>93.806158</td>\n",
       "    </tr>\n",
       "    <tr>\n",
       "      <th>2</th>\n",
       "      <td>48.629579</td>\n",
       "      <td>61.753451</td>\n",
       "      <td>43.641583</td>\n",
       "      <td>59.699370</td>\n",
       "      <td>14.6</td>\n",
       "      <td>37.780203</td>\n",
       "      <td>95.006312</td>\n",
       "      <td>135.339681</td>\n",
       "    </tr>\n",
       "    <tr>\n",
       "      <th>3</th>\n",
       "      <td>58.544034</td>\n",
       "      <td>69.783507</td>\n",
       "      <td>53.738745</td>\n",
       "      <td>45.704638</td>\n",
       "      <td>21.2</td>\n",
       "      <td>56.827208</td>\n",
       "      <td>96.522192</td>\n",
       "      <td>100.772632</td>\n",
       "    </tr>\n",
       "    <tr>\n",
       "      <th>4</th>\n",
       "      <td>44.821338</td>\n",
       "      <td>70.730153</td>\n",
       "      <td>67.829659</td>\n",
       "      <td>44.254419</td>\n",
       "      <td>24.5</td>\n",
       "      <td>54.513731</td>\n",
       "      <td>108.878563</td>\n",
       "      <td>91.600053</td>\n",
       "    </tr>\n",
       "  </tbody>\n",
       "</table>\n",
       "</div>"
      ],
      "text/plain": [
       "           A          B          C          D  Left Skew  Multimodal  \\\n",
       "0  48.916926  67.223785  55.917225  45.561471       23.1   37.632318   \n",
       "1  47.692726  68.175751  30.174288  47.825783       18.2   49.244001   \n",
       "2  48.629579  61.753451  43.641583  59.699370       14.6   37.780203   \n",
       "3  58.544034  69.783507  53.738745  45.704638       21.2   56.827208   \n",
       "4  44.821338  70.730153  67.829659  44.254419       24.5   54.513731   \n",
       "\n",
       "         IQ20       IQ100  \n",
       "0  120.459951   93.041368  \n",
       "1  107.418864   93.806158  \n",
       "2   95.006312  135.339681  \n",
       "3   96.522192  100.772632  \n",
       "4  108.878563   91.600053  "
      ]
     },
     "execution_count": 2,
     "metadata": {},
     "output_type": "execute_result"
    }
   ],
   "source": [
    "df = pd.read_csv('Histogram.csv')\n",
    "df.head()"
   ]
  },
  {
   "cell_type": "markdown",
   "id": "28348409",
   "metadata": {},
   "source": [
    "**1. Generate the histograms for the frequency of values in the dataset uploaded to the classroom and study statistical characteristics like Mean, Mode, Median, Variance of any sample (Histograms can be generated in Excel/Python/Orange, etc).**"
   ]
  },
  {
   "cell_type": "code",
   "execution_count": 3,
   "id": "7ee39920",
   "metadata": {},
   "outputs": [
    {
     "data": {
      "text/html": [
       "<div>\n",
       "<style scoped>\n",
       "    .dataframe tbody tr th:only-of-type {\n",
       "        vertical-align: middle;\n",
       "    }\n",
       "\n",
       "    .dataframe tbody tr th {\n",
       "        vertical-align: top;\n",
       "    }\n",
       "\n",
       "    .dataframe thead th {\n",
       "        text-align: right;\n",
       "    }\n",
       "</style>\n",
       "<table border=\"1\" class=\"dataframe\">\n",
       "  <thead>\n",
       "    <tr style=\"text-align: right;\">\n",
       "      <th></th>\n",
       "      <th>A</th>\n",
       "      <th>B</th>\n",
       "      <th>C</th>\n",
       "      <th>D</th>\n",
       "      <th>Left Skew</th>\n",
       "      <th>Multimodal</th>\n",
       "      <th>IQ20</th>\n",
       "      <th>IQ100</th>\n",
       "    </tr>\n",
       "  </thead>\n",
       "  <tbody>\n",
       "    <tr>\n",
       "      <th>count</th>\n",
       "      <td>100.000000</td>\n",
       "      <td>100.000000</td>\n",
       "      <td>100.000000</td>\n",
       "      <td>100.000000</td>\n",
       "      <td>92.000000</td>\n",
       "      <td>200.000000</td>\n",
       "      <td>20.000000</td>\n",
       "      <td>100.000000</td>\n",
       "    </tr>\n",
       "    <tr>\n",
       "      <th>mean</th>\n",
       "      <td>50.632133</td>\n",
       "      <td>65.544513</td>\n",
       "      <td>50.851334</td>\n",
       "      <td>50.211539</td>\n",
       "      <td>20.107609</td>\n",
       "      <td>59.734576</td>\n",
       "      <td>102.132401</td>\n",
       "      <td>102.925179</td>\n",
       "    </tr>\n",
       "    <tr>\n",
       "      <th>std</th>\n",
       "      <td>5.063123</td>\n",
       "      <td>5.085469</td>\n",
       "      <td>15.342335</td>\n",
       "      <td>5.228720</td>\n",
       "      <td>7.047410</td>\n",
       "      <td>11.513170</td>\n",
       "      <td>15.550922</td>\n",
       "      <td>15.223586</td>\n",
       "    </tr>\n",
       "    <tr>\n",
       "      <th>min</th>\n",
       "      <td>39.935450</td>\n",
       "      <td>54.142510</td>\n",
       "      <td>15.381702</td>\n",
       "      <td>39.081231</td>\n",
       "      <td>1.000000</td>\n",
       "      <td>33.555815</td>\n",
       "      <td>78.284920</td>\n",
       "      <td>69.763146</td>\n",
       "    </tr>\n",
       "    <tr>\n",
       "      <th>25%</th>\n",
       "      <td>47.693309</td>\n",
       "      <td>61.819282</td>\n",
       "      <td>42.188371</td>\n",
       "      <td>46.852570</td>\n",
       "      <td>15.025000</td>\n",
       "      <td>49.592572</td>\n",
       "      <td>91.681628</td>\n",
       "      <td>92.096983</td>\n",
       "    </tr>\n",
       "    <tr>\n",
       "      <th>50%</th>\n",
       "      <td>50.673711</td>\n",
       "      <td>65.898797</td>\n",
       "      <td>51.654882</td>\n",
       "      <td>49.726685</td>\n",
       "      <td>21.500000</td>\n",
       "      <td>60.602041</td>\n",
       "      <td>105.608402</td>\n",
       "      <td>101.426575</td>\n",
       "    </tr>\n",
       "    <tr>\n",
       "      <th>75%</th>\n",
       "      <td>53.820237</td>\n",
       "      <td>68.821663</td>\n",
       "      <td>61.308291</td>\n",
       "      <td>53.196049</td>\n",
       "      <td>25.925000</td>\n",
       "      <td>69.521137</td>\n",
       "      <td>108.952938</td>\n",
       "      <td>114.041076</td>\n",
       "    </tr>\n",
       "    <tr>\n",
       "      <th>max</th>\n",
       "      <td>63.531483</td>\n",
       "      <td>80.184730</td>\n",
       "      <td>90.095257</td>\n",
       "      <td>71.200000</td>\n",
       "      <td>31.400000</td>\n",
       "      <td>81.929535</td>\n",
       "      <td>133.448312</td>\n",
       "      <td>138.871933</td>\n",
       "    </tr>\n",
       "  </tbody>\n",
       "</table>\n",
       "</div>"
      ],
      "text/plain": [
       "                A           B           C           D  Left Skew  Multimodal  \\\n",
       "count  100.000000  100.000000  100.000000  100.000000  92.000000  200.000000   \n",
       "mean    50.632133   65.544513   50.851334   50.211539  20.107609   59.734576   \n",
       "std      5.063123    5.085469   15.342335    5.228720   7.047410   11.513170   \n",
       "min     39.935450   54.142510   15.381702   39.081231   1.000000   33.555815   \n",
       "25%     47.693309   61.819282   42.188371   46.852570  15.025000   49.592572   \n",
       "50%     50.673711   65.898797   51.654882   49.726685  21.500000   60.602041   \n",
       "75%     53.820237   68.821663   61.308291   53.196049  25.925000   69.521137   \n",
       "max     63.531483   80.184730   90.095257   71.200000  31.400000   81.929535   \n",
       "\n",
       "             IQ20       IQ100  \n",
       "count   20.000000  100.000000  \n",
       "mean   102.132401  102.925179  \n",
       "std     15.550922   15.223586  \n",
       "min     78.284920   69.763146  \n",
       "25%     91.681628   92.096983  \n",
       "50%    105.608402  101.426575  \n",
       "75%    108.952938  114.041076  \n",
       "max    133.448312  138.871933  "
      ]
     },
     "execution_count": 3,
     "metadata": {},
     "output_type": "execute_result"
    }
   ],
   "source": [
    "df.describe()"
   ]
  },
  {
   "cell_type": "code",
   "execution_count": 4,
   "id": "cc82a96d",
   "metadata": {},
   "outputs": [
    {
     "data": {
      "image/png": "[encoded data removed]",
      "text/plain": [
       "<Figure size 432x288 with 1 Axes>"
      ]
     },
     "metadata": {
      "needs_background": "light"
     },
     "output_type": "display_data"
    }
   ],
   "source": [
    "plt.hist(df['A']);"
   ]
  },
  {
   "cell_type": "code",
   "execution_count": 5,
   "id": "af393e15",
   "metadata": {},
   "outputs": [
    {
     "data": {
      "image/png": "[encoded data removed]",
      "text/plain": [
       "<Figure size 432x288 with 1 Axes>"
      ]
     },
     "metadata": {
      "needs_background": "light"
     },
     "output_type": "display_data"
    }
   ],
   "source": [
    "plt.hist(df['B']);"
   ]
  },
  {
   "cell_type": "code",
   "execution_count": 6,
   "id": "a124938f",
   "metadata": {},
   "outputs": [
    {
     "data": {
      "image/png": "[encoded data removed]",
      "text/plain": [
       "<Figure size 432x288 with 1 Axes>"
      ]
     },
     "metadata": {
      "needs_background": "light"
     },
     "output_type": "display_data"
    }
   ],
   "source": [
    "plt.hist(df['C']);"
   ]
  },
  {
   "cell_type": "code",
   "execution_count": 7,
   "id": "c3a0cbce",
   "metadata": {},
   "outputs": [
    {
     "data": {
      "image/png": "[encoded data removed]",
      "text/plain": [
       "<Figure size 432x288 with 1 Axes>"
      ]
     },
     "metadata": {
      "needs_background": "light"
     },
     "output_type": "display_data"
    }
   ],
   "source": [
    "plt.hist(df['D']);"
   ]
  },
  {
   "cell_type": "code",
   "execution_count": 8,
   "id": "0fea183a",
   "metadata": {},
   "outputs": [
    {
     "data": {
      "image/png": "[encoded data removed]",
      "text/plain": [
       "<Figure size 432x288 with 1 Axes>"
      ]
     },
     "metadata": {
      "needs_background": "light"
     },
     "output_type": "display_data"
    }
   ],
   "source": [
    "plt.hist(df['Left Skew']);"
   ]
  },
  {
   "cell_type": "code",
   "execution_count": 9,
   "id": "bd07c63b",
   "metadata": {},
   "outputs": [
    {
     "data": {
      "image/png": "[encoded data removed]",
      "text/plain": [
       "<Figure size 432x288 with 1 Axes>"
      ]
     },
     "metadata": {
      "needs_background": "light"
     },
     "output_type": "display_data"
    }
   ],
   "source": [
    "plt.hist(df['Multimodal']);"
   ]
  },
  {
   "cell_type": "code",
   "execution_count": 10,
   "id": "2815930c",
   "metadata": {},
   "outputs": [
    {
     "data": {
      "image/png": "[encoded data removed]",
      "text/plain": [
       "<Figure size 432x288 with 1 Axes>"
      ]
     },
     "metadata": {
      "needs_background": "light"
     },
     "output_type": "display_data"
    }
   ],
   "source": [
    "plt.hist(df['IQ20']);"
   ]
  },
  {
   "cell_type": "code",
   "execution_count": 11,
   "id": "16592835",
   "metadata": {},
   "outputs": [
    {
     "data": {
      "image/png": "[encoded data removed]",
      "text/plain": [
       "<Figure size 432x288 with 1 Axes>"
      ]
     },
     "metadata": {
      "needs_background": "light"
     },
     "output_type": "display_data"
    }
   ],
   "source": [
    "plt.hist(df['IQ100']);"
   ]
  },
  {
   "cell_type": "markdown",
   "id": "19669a07",
   "metadata": {},
   "source": [
    "**2. Perform skewness analysis for the data and decide the suitable missing value replacement for the ratio scale and interval scale numerical data attributes.**"
   ]
  },
  {
   "cell_type": "code",
   "execution_count": 12,
   "id": "34bcdc11",
   "metadata": {},
   "outputs": [
    {
     "data": {
      "text/html": [
       "<div>\n",
       "<style scoped>\n",
       "    .dataframe tbody tr th:only-of-type {\n",
       "        vertical-align: middle;\n",
       "    }\n",
       "\n",
       "    .dataframe tbody tr th {\n",
       "        vertical-align: top;\n",
       "    }\n",
       "\n",
       "    .dataframe thead th {\n",
       "        text-align: right;\n",
       "    }\n",
       "</style>\n",
       "<table border=\"1\" class=\"dataframe\">\n",
       "  <thead>\n",
       "    <tr style=\"text-align: right;\">\n",
       "      <th></th>\n",
       "      <th>A</th>\n",
       "      <th>B</th>\n",
       "      <th>C</th>\n",
       "      <th>D</th>\n",
       "      <th>Left Skew</th>\n",
       "      <th>Multimodal</th>\n",
       "      <th>IQ20</th>\n",
       "      <th>IQ100</th>\n",
       "    </tr>\n",
       "  </thead>\n",
       "  <tbody>\n",
       "    <tr>\n",
       "      <th>0</th>\n",
       "      <td>48.916926</td>\n",
       "      <td>67.223785</td>\n",
       "      <td>55.917225</td>\n",
       "      <td>45.561471</td>\n",
       "      <td>23.1</td>\n",
       "      <td>37.632318</td>\n",
       "      <td>120.459951</td>\n",
       "      <td>93.041368</td>\n",
       "    </tr>\n",
       "    <tr>\n",
       "      <th>1</th>\n",
       "      <td>47.692726</td>\n",
       "      <td>68.175751</td>\n",
       "      <td>30.174288</td>\n",
       "      <td>47.825783</td>\n",
       "      <td>18.2</td>\n",
       "      <td>49.244001</td>\n",
       "      <td>107.418864</td>\n",
       "      <td>93.806158</td>\n",
       "    </tr>\n",
       "    <tr>\n",
       "      <th>2</th>\n",
       "      <td>48.629579</td>\n",
       "      <td>61.753451</td>\n",
       "      <td>43.641583</td>\n",
       "      <td>59.699370</td>\n",
       "      <td>14.6</td>\n",
       "      <td>37.780203</td>\n",
       "      <td>95.006312</td>\n",
       "      <td>135.339681</td>\n",
       "    </tr>\n",
       "    <tr>\n",
       "      <th>3</th>\n",
       "      <td>58.544034</td>\n",
       "      <td>69.783507</td>\n",
       "      <td>53.738745</td>\n",
       "      <td>45.704638</td>\n",
       "      <td>21.2</td>\n",
       "      <td>56.827208</td>\n",
       "      <td>96.522192</td>\n",
       "      <td>100.772632</td>\n",
       "    </tr>\n",
       "    <tr>\n",
       "      <th>4</th>\n",
       "      <td>44.821338</td>\n",
       "      <td>70.730153</td>\n",
       "      <td>67.829659</td>\n",
       "      <td>44.254419</td>\n",
       "      <td>24.5</td>\n",
       "      <td>54.513731</td>\n",
       "      <td>108.878563</td>\n",
       "      <td>91.600053</td>\n",
       "    </tr>\n",
       "  </tbody>\n",
       "</table>\n",
       "</div>"
      ],
      "text/plain": [
       "           A          B          C          D  Left Skew  Multimodal  \\\n",
       "0  48.916926  67.223785  55.917225  45.561471       23.1   37.632318   \n",
       "1  47.692726  68.175751  30.174288  47.825783       18.2   49.244001   \n",
       "2  48.629579  61.753451  43.641583  59.699370       14.6   37.780203   \n",
       "3  58.544034  69.783507  53.738745  45.704638       21.2   56.827208   \n",
       "4  44.821338  70.730153  67.829659  44.254419       24.5   54.513731   \n",
       "\n",
       "         IQ20       IQ100  \n",
       "0  120.459951   93.041368  \n",
       "1  107.418864   93.806158  \n",
       "2   95.006312  135.339681  \n",
       "3   96.522192  100.772632  \n",
       "4  108.878563   91.600053  "
      ]
     },
     "execution_count": 12,
     "metadata": {},
     "output_type": "execute_result"
    }
   ],
   "source": [
    "df = pd.read_csv('Histogram.csv')\n",
    "df.head()"
   ]
  },
  {
   "cell_type": "markdown",
   "id": "3c2e2208",
   "metadata": {},
   "source": [
    "**Column A**"
   ]
  },
  {
   "cell_type": "code",
   "execution_count": 13,
   "id": "9b1350bc",
   "metadata": {},
   "outputs": [
    {
     "data": {
      "text/plain": [
       "0    48.916926\n",
       "1    47.692726\n",
       "2    48.629579\n",
       "3    58.544034\n",
       "4    44.821338\n",
       "Name: A, dtype: float64"
      ]
     },
     "execution_count": 13,
     "metadata": {},
     "output_type": "execute_result"
    }
   ],
   "source": [
    "A = df['A'].dropna()\n",
    "# insert random N/A with probability 10%\n",
    "A = A.mask(np.random.random(A.shape) < .1)\n",
    "A.head()"
   ]
  },
  {
   "cell_type": "code",
   "execution_count": 14,
   "id": "21044eb9",
   "metadata": {},
   "outputs": [
    {
     "data": {
      "text/plain": [
       "'Number of N/A values in A: 7'"
      ]
     },
     "execution_count": 14,
     "metadata": {},
     "output_type": "execute_result"
    }
   ],
   "source": [
    "f\"Number of N/A values in A: {A.isna().sum()}\""
   ]
  },
  {
   "cell_type": "code",
   "execution_count": 15,
   "id": "ddd5855c",
   "metadata": {},
   "outputs": [
    {
     "data": {
      "image/png": "[encoded data removed]",
      "text/plain": [
       "<Figure size 432x288 with 1 Axes>"
      ]
     },
     "metadata": {
      "needs_background": "light"
     },
     "output_type": "display_data"
    }
   ],
   "source": [
    "plt.boxplot(A.dropna());"
   ]
  },
  {
   "cell_type": "markdown",
   "id": "b7b75902",
   "metadata": {},
   "source": [
    "The median bar is in the center. This is a non-skewed distribution, thus we will replace NA by mean"
   ]
  },
  {
   "cell_type": "code",
   "execution_count": 16,
   "id": "63085ca2",
   "metadata": {},
   "outputs": [
    {
     "data": {
      "text/plain": [
       "'Number of N/A values in A: 0'"
      ]
     },
     "execution_count": 16,
     "metadata": {},
     "output_type": "execute_result"
    }
   ],
   "source": [
    "A.fillna(value=A.mean(), inplace=True)\n",
    "f\"Number of N/A values in A: {A.isna().sum()}\""
   ]
  },
  {
   "cell_type": "markdown",
   "id": "93df9d0b",
   "metadata": {},
   "source": [
    "**Column B**"
   ]
  },
  {
   "cell_type": "code",
   "execution_count": 17,
   "id": "fa403b1f",
   "metadata": {},
   "outputs": [
    {
     "data": {
      "text/plain": [
       "0    67.223785\n",
       "1    68.175751\n",
       "2    61.753451\n",
       "3          NaN\n",
       "4    70.730153\n",
       "Name: B, dtype: float64"
      ]
     },
     "execution_count": 17,
     "metadata": {},
     "output_type": "execute_result"
    }
   ],
   "source": [
    "B = df['B'].dropna()\n",
    "# insert random N/A with probability 10%\n",
    "B = B.mask(np.random.random(B.shape) < .1)\n",
    "B.head()"
   ]
  },
  {
   "cell_type": "code",
   "execution_count": 18,
   "id": "4aaa3e51",
   "metadata": {},
   "outputs": [
    {
     "data": {
      "text/plain": [
       "'Number of N/A values in B: 9'"
      ]
     },
     "execution_count": 18,
     "metadata": {},
     "output_type": "execute_result"
    }
   ],
   "source": [
    "f\"Number of N/A values in B: {B.isna().sum()}\""
   ]
  },
  {
   "cell_type": "code",
   "execution_count": 19,
   "id": "89a28990",
   "metadata": {},
   "outputs": [
    {
     "data": {
      "image/png": "[encoded data removed]",
      "text/plain": [
       "<Figure size 432x288 with 1 Axes>"
      ]
     },
     "metadata": {
      "needs_background": "light"
     },
     "output_type": "display_data"
    }
   ],
   "source": [
    "plt.boxplot(B.dropna());"
   ]
  },
  {
   "cell_type": "markdown",
   "id": "57860d3c",
   "metadata": {},
   "source": [
    "Median is above the center so the data is skewed left. We will fill NA values by median."
   ]
  },
  {
   "cell_type": "code",
   "execution_count": 20,
   "id": "dc9a91bf",
   "metadata": {},
   "outputs": [
    {
     "data": {
      "text/plain": [
       "'Number of N/A values in B: 0'"
      ]
     },
     "execution_count": 20,
     "metadata": {},
     "output_type": "execute_result"
    }
   ],
   "source": [
    "B.fillna(value=B.median(), inplace=True)\n",
    "f\"Number of N/A values in B: {B.isna().sum()}\""
   ]
  },
  {
   "cell_type": "markdown",
   "id": "cceb98da",
   "metadata": {},
   "source": [
    "**Column C**"
   ]
  },
  {
   "cell_type": "code",
   "execution_count": 21,
   "id": "71eabd6d",
   "metadata": {},
   "outputs": [
    {
     "data": {
      "text/plain": [
       "0    55.917225\n",
       "1    30.174288\n",
       "2    43.641583\n",
       "3    53.738745\n",
       "4    67.829659\n",
       "Name: C, dtype: float64"
      ]
     },
     "execution_count": 21,
     "metadata": {},
     "output_type": "execute_result"
    }
   ],
   "source": [
    "C = df['C'].dropna()\n",
    "# insert random N/A with probability 10%\n",
    "C = C.mask(np.random.random(C.shape) < .1)\n",
    "C.head()"
   ]
  },
  {
   "cell_type": "code",
   "execution_count": 22,
   "id": "a4f4b462",
   "metadata": {},
   "outputs": [
    {
     "data": {
      "text/plain": [
       "'Number of N/A values in C: 10'"
      ]
     },
     "execution_count": 22,
     "metadata": {},
     "output_type": "execute_result"
    }
   ],
   "source": [
    "f\"Number of N/A values in C: {C.isna().sum()}\""
   ]
  },
  {
   "cell_type": "code",
   "execution_count": 23,
   "id": "2140ee88",
   "metadata": {},
   "outputs": [
    {
     "data": {
      "image/png": "[encoded data removed]",
      "text/plain": [
       "<Figure size 432x288 with 1 Axes>"
      ]
     },
     "metadata": {
      "needs_background": "light"
     },
     "output_type": "display_data"
    }
   ],
   "source": [
    "plt.boxplot(C.dropna());"
   ]
  },
  {
   "cell_type": "markdown",
   "id": "fa0e6dbd",
   "metadata": {},
   "source": [
    "The median bar is in the center. This is a non-skewed distribution, thus we will replace NA by mean"
   ]
  },
  {
   "cell_type": "code",
   "execution_count": 24,
   "id": "55740860",
   "metadata": {},
   "outputs": [
    {
     "data": {
      "text/plain": [
       "'Number of N/A values in C: 0'"
      ]
     },
     "execution_count": 24,
     "metadata": {},
     "output_type": "execute_result"
    }
   ],
   "source": [
    "C.fillna(value=C.mean(), inplace=True)\n",
    "f\"Number of N/A values in C: {C.isna().sum()}\""
   ]
  },
  {
   "cell_type": "markdown",
   "id": "60c73f01",
   "metadata": {},
   "source": [
    "**Column D**"
   ]
  },
  {
   "cell_type": "code",
   "execution_count": 25,
   "id": "bb9fdac0",
   "metadata": {},
   "outputs": [
    {
     "data": {
      "text/plain": [
       "0    45.561471\n",
       "1    47.825783\n",
       "2    59.699370\n",
       "3          NaN\n",
       "4    44.254419\n",
       "Name: D, dtype: float64"
      ]
     },
     "execution_count": 25,
     "metadata": {},
     "output_type": "execute_result"
    }
   ],
   "source": [
    "D = df['D'].dropna()\n",
    "# insert random N/A with probability 10%\n",
    "D = D.mask(np.random.random(D.shape) < .1)\n",
    "D.head()"
   ]
  },
  {
   "cell_type": "code",
   "execution_count": 26,
   "id": "c2996cd6",
   "metadata": {},
   "outputs": [
    {
     "data": {
      "text/plain": [
       "'Number of N/A values in D: 13'"
      ]
     },
     "execution_count": 26,
     "metadata": {},
     "output_type": "execute_result"
    }
   ],
   "source": [
    "f\"Number of N/A values in D: {D.isna().sum()}\""
   ]
  },
  {
   "cell_type": "code",
   "execution_count": 27,
   "id": "40a778a7",
   "metadata": {},
   "outputs": [
    {
     "data": {
      "image/png": "[encoded data removed]",
      "text/plain": [
       "<Figure size 432x288 with 1 Axes>"
      ]
     },
     "metadata": {
      "needs_background": "light"
     },
     "output_type": "display_data"
    }
   ],
   "source": [
    "plt.boxplot(D.dropna());"
   ]
  },
  {
   "cell_type": "markdown",
   "id": "0fe2d190",
   "metadata": {},
   "source": [
    "The median bar is in the center. This is a non-skewed distribution, thus we will replace NA by mean"
   ]
  },
  {
   "cell_type": "code",
   "execution_count": 28,
   "id": "6c56e724",
   "metadata": {},
   "outputs": [
    {
     "data": {
      "text/plain": [
       "'Number of N/A values in D: 0'"
      ]
     },
     "execution_count": 28,
     "metadata": {},
     "output_type": "execute_result"
    }
   ],
   "source": [
    "D.fillna(value=D.mean(), inplace=True)\n",
    "f\"Number of N/A values in D: {D.isna().sum()}\""
   ]
  },
  {
   "cell_type": "markdown",
   "id": "21db3066",
   "metadata": {},
   "source": [
    "**3. Perform Missing value replacement by Mean, Mode, Median on the A attributes. Intentionally remove two values from that attribute and find the value of the X and Y for given data using mean value replacement (perform the operation on first 12 records).**"
   ]
  },
  {
   "cell_type": "code",
   "execution_count": 29,
   "id": "fa5fb73a",
   "metadata": {},
   "outputs": [
    {
     "data": {
      "text/plain": [
       "0     48.916926\n",
       "1     47.692726\n",
       "2     48.629579\n",
       "3     58.544034\n",
       "4     44.821338\n",
       "5     47.693504\n",
       "6     43.954434\n",
       "7     52.849055\n",
       "8     47.934716\n",
       "9     63.531483\n",
       "10    49.804099\n",
       "11    52.183024\n",
       "Name: A, dtype: float64"
      ]
     },
     "execution_count": 29,
     "metadata": {},
     "output_type": "execute_result"
    }
   ],
   "source": [
    "df = pd.read_csv('Histogram.csv')\n",
    "data = df['A'].iloc[0:12]\n",
    "data"
   ]
  },
  {
   "cell_type": "code",
   "execution_count": 30,
   "id": "89c804bb",
   "metadata": {
    "scrolled": true
   },
   "outputs": [
    {
     "data": {
      "text/plain": [
       "0     48.916926\n",
       "1           NaN\n",
       "2     48.629579\n",
       "3     58.544034\n",
       "4     44.821338\n",
       "5     47.693504\n",
       "6     43.954434\n",
       "7           NaN\n",
       "8     47.934716\n",
       "9     63.531483\n",
       "10    49.804099\n",
       "11    52.183024\n",
       "Name: A, dtype: float64"
      ]
     },
     "execution_count": 30,
     "metadata": {},
     "output_type": "execute_result"
    }
   ],
   "source": [
    "# 2 NA\n",
    "x = data[1]\n",
    "y = data[7]\n",
    "data[1] = np.nan\n",
    "data[7] = np.nan\n",
    "data"
   ]
  },
  {
   "cell_type": "code",
   "execution_count": 31,
   "id": "6daf61ca",
   "metadata": {},
   "outputs": [
    {
     "data": {
      "text/plain": [
       "[50.601313826, 48.773252885, 49.80409903]"
      ]
     },
     "execution_count": 31,
     "metadata": {},
     "output_type": "execute_result"
    }
   ],
   "source": [
    "mean = data.mean()\n",
    "median = data.median()\n",
    "mode = data.mode()[data.size / 2]\n",
    "[mean, median, mode]"
   ]
  },
  {
   "cell_type": "code",
   "execution_count": 32,
   "id": "a2b3fc9d",
   "metadata": {},
   "outputs": [
    {
     "data": {
      "text/plain": [
       "0     48.916926\n",
       "1     50.601314\n",
       "2     48.629579\n",
       "3     58.544034\n",
       "4     44.821338\n",
       "5     47.693504\n",
       "6     43.954434\n",
       "7     50.601314\n",
       "8     47.934716\n",
       "9     63.531483\n",
       "10    49.804099\n",
       "11    52.183024\n",
       "Name: A, dtype: float64"
      ]
     },
     "execution_count": 32,
     "metadata": {},
     "output_type": "execute_result"
    }
   ],
   "source": [
    "data_mean = data.fillna(value=mean)\n",
    "data_mean"
   ]
  },
  {
   "cell_type": "code",
   "execution_count": 33,
   "id": "7f4c7b7f",
   "metadata": {},
   "outputs": [
    {
     "data": {
      "text/plain": [
       "0     48.916926\n",
       "1     48.773253\n",
       "2     48.629579\n",
       "3     58.544034\n",
       "4     44.821338\n",
       "5     47.693504\n",
       "6     43.954434\n",
       "7     48.773253\n",
       "8     47.934716\n",
       "9     63.531483\n",
       "10    49.804099\n",
       "11    52.183024\n",
       "Name: A, dtype: float64"
      ]
     },
     "execution_count": 33,
     "metadata": {},
     "output_type": "execute_result"
    }
   ],
   "source": [
    "data_median = data.fillna(value=median)\n",
    "data_median"
   ]
  },
  {
   "cell_type": "code",
   "execution_count": 34,
   "id": "d96308f7",
   "metadata": {},
   "outputs": [
    {
     "data": {
      "text/plain": [
       "0     48.916926\n",
       "1     49.804099\n",
       "2     48.629579\n",
       "3     58.544034\n",
       "4     44.821338\n",
       "5     47.693504\n",
       "6     43.954434\n",
       "7     49.804099\n",
       "8     47.934716\n",
       "9     63.531483\n",
       "10    49.804099\n",
       "11    52.183024\n",
       "Name: A, dtype: float64"
      ]
     },
     "execution_count": 34,
     "metadata": {},
     "output_type": "execute_result"
    }
   ],
   "source": [
    "data_mode = data.fillna(value=mode)\n",
    "data_mode"
   ]
  },
  {
   "cell_type": "code",
   "execution_count": 35,
   "id": "0a52776f",
   "metadata": {},
   "outputs": [
    {
     "name": "stdout",
     "output_type": "stream",
     "text": [
      "Change in x: 6.10%\n",
      "Change in y: 4.25%\n"
     ]
    }
   ],
   "source": [
    "new_x = data_mean[1]\n",
    "new_y = data_mean[7]\n",
    "change_x = abs(x - new_x) * 100 / x\n",
    "change_y = abs(y - new_y) * 100 / y\n",
    "print('Change in x: %0.2f%%' % (change_x))\n",
    "print('Change in y: %0.2f%%' % (change_y))"
   ]
  },
  {
   "cell_type": "markdown",
   "id": "2764c5a8",
   "metadata": {},
   "source": [
    "**4. Perform Noise identification, Outlier detection using histogram and try to remove the\n",
    "outliers and check the statistical characteristics again**"
   ]
  },
  {
   "cell_type": "code",
   "execution_count": 36,
   "id": "4fb4b073",
   "metadata": {},
   "outputs": [
    {
     "data": {
      "image/png": "[encoded data removed]",
      "text/plain": [
       "<Figure size 432x288 with 1 Axes>"
      ]
     },
     "metadata": {
      "needs_background": "light"
     },
     "output_type": "display_data"
    }
   ],
   "source": [
    "df = pd.read_csv('Histogram.csv')\n",
    "plt.hist(df['A'], 25);"
   ]
  },
  {
   "cell_type": "markdown",
   "id": "19377a71",
   "metadata": {},
   "source": [
    "Note the outliers at 40 with extra bars and at 60 with isolated bars"
   ]
  },
  {
   "cell_type": "code",
   "execution_count": 37,
   "id": "e0a10406",
   "metadata": {},
   "outputs": [
    {
     "data": {
      "text/html": [
       "<div>\n",
       "<style scoped>\n",
       "    .dataframe tbody tr th:only-of-type {\n",
       "        vertical-align: middle;\n",
       "    }\n",
       "\n",
       "    .dataframe tbody tr th {\n",
       "        vertical-align: top;\n",
       "    }\n",
       "\n",
       "    .dataframe thead th {\n",
       "        text-align: right;\n",
       "    }\n",
       "</style>\n",
       "<table border=\"1\" class=\"dataframe\">\n",
       "  <thead>\n",
       "    <tr style=\"text-align: right;\">\n",
       "      <th></th>\n",
       "      <th>A</th>\n",
       "    </tr>\n",
       "  </thead>\n",
       "  <tbody>\n",
       "    <tr>\n",
       "      <th>count</th>\n",
       "      <td>97.000000</td>\n",
       "    </tr>\n",
       "    <tr>\n",
       "      <th>mean</th>\n",
       "      <td>50.504802</td>\n",
       "    </tr>\n",
       "    <tr>\n",
       "      <th>std</th>\n",
       "      <td>4.735186</td>\n",
       "    </tr>\n",
       "    <tr>\n",
       "      <th>min</th>\n",
       "      <td>40.206318</td>\n",
       "    </tr>\n",
       "    <tr>\n",
       "      <th>25%</th>\n",
       "      <td>47.693504</td>\n",
       "    </tr>\n",
       "    <tr>\n",
       "      <th>50%</th>\n",
       "      <td>50.656375</td>\n",
       "    </tr>\n",
       "    <tr>\n",
       "      <th>75%</th>\n",
       "      <td>53.414551</td>\n",
       "    </tr>\n",
       "    <tr>\n",
       "      <th>max</th>\n",
       "      <td>59.630779</td>\n",
       "    </tr>\n",
       "  </tbody>\n",
       "</table>\n",
       "</div>"
      ],
      "text/plain": [
       "               A\n",
       "count  97.000000\n",
       "mean   50.504802\n",
       "std     4.735186\n",
       "min    40.206318\n",
       "25%    47.693504\n",
       "50%    50.656375\n",
       "75%    53.414551\n",
       "max    59.630779"
      ]
     },
     "execution_count": 37,
     "metadata": {},
     "output_type": "execute_result"
    }
   ],
   "source": [
    "new_data = []\n",
    "data = df['A'].to_numpy()\n",
    "rows = df.shape[0]\n",
    "for row in range(rows):\n",
    "    if data[row] <= 60 and data[row] >= 40:\n",
    "        new_data.append(data[row])\n",
    "new_data = np.asarray(new_data)\n",
    "new_df = pd.DataFrame(new_data.reshape(-1, 1), columns=['A'])\n",
    "new_df.describe()"
   ]
  }
 ],
 "metadata": {
  "kernelspec": {
   "display_name": "Python 3",
   "language": "python",
   "name": "python3"
  },
  "language_info": {
   "codemirror_mode": {
    "name": "ipython",
    "version": 3
   },
   "file_extension": ".py",
   "mimetype": "text/x-python",
   "name": "python",
   "nbconvert_exporter": "python",
   "pygments_lexer": "ipython3",
   "version": "3.8.8"
  }
 },
 "nbformat": 4,
 "nbformat_minor": 5
}
