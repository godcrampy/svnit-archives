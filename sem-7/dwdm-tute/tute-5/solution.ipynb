{
 "cells": [
  {
   "cell_type": "markdown",
   "metadata": {},
   "source": [
    "**5. Experiment with any dataset of your choice using a decision tree model, logistic regression, naïve Bayes classifier, and a support vector model. Make a table of your results. Are the differences in model performance significant?**"
   ]
  },
  {
   "cell_type": "markdown",
   "metadata": {},
   "source": [
    "# Import Libraries"
   ]
  },
  {
   "cell_type": "code",
   "execution_count": 1,
   "metadata": {
    "_cell_guid": "b1076dfc-b9ad-4769-8c92-a6c4dae69d19",
    "_uuid": "8f2839f25d086af736a60e9eeb907d3b93b6e0e5",
    "execution": {
     "iopub.execute_input": "2021-09-21T07:13:50.521106Z",
     "iopub.status.busy": "2021-09-21T07:13:50.520830Z",
     "iopub.status.idle": "2021-09-21T07:13:50.526991Z",
     "shell.execute_reply": "2021-09-21T07:13:50.526156Z",
     "shell.execute_reply.started": "2021-09-21T07:13:50.521080Z"
    }
   },
   "outputs": [],
   "source": [
    "import numpy as np\n",
    "import pandas as pd\n",
    "from sklearn.datasets import load_iris\n",
    "from sklearn.model_selection import train_test_split\n",
    "from sklearn.preprocessing import StandardScaler"
   ]
  },
  {
   "cell_type": "markdown",
   "metadata": {},
   "source": [
    "# Load Data"
   ]
  },
  {
   "cell_type": "code",
   "execution_count": 2,
   "metadata": {
    "execution": {
     "iopub.execute_input": "2021-09-21T07:13:50.543443Z",
     "iopub.status.busy": "2021-09-21T07:13:50.542900Z",
     "iopub.status.idle": "2021-09-21T07:13:50.555770Z",
     "shell.execute_reply": "2021-09-21T07:13:50.555187Z",
     "shell.execute_reply.started": "2021-09-21T07:13:50.543404Z"
    }
   },
   "outputs": [
    {
     "name": "stdout",
     "output_type": "stream",
     "text": [
      "(150, 4) (150,)\n"
     ]
    }
   ],
   "source": [
    "# IRIS Dataset\n",
    "X, y = load_iris(return_X_y=True)\n",
    "print(X.shape, y.shape)"
   ]
  },
  {
   "cell_type": "markdown",
   "metadata": {},
   "source": [
    "# Pre Processing"
   ]
  },
  {
   "cell_type": "code",
   "execution_count": 3,
   "metadata": {
    "execution": {
     "iopub.execute_input": "2021-09-21T07:13:50.558398Z",
     "iopub.status.busy": "2021-09-21T07:13:50.557482Z",
     "iopub.status.idle": "2021-09-21T07:13:50.568749Z",
     "shell.execute_reply": "2021-09-21T07:13:50.567836Z",
     "shell.execute_reply.started": "2021-09-21T07:13:50.558354Z"
    }
   },
   "outputs": [
    {
     "data": {
      "text/plain": [
       "False"
      ]
     },
     "execution_count": 3,
     "metadata": {},
     "output_type": "execute_result"
    }
   ],
   "source": [
    "# No NAN Values\n",
    "np.isnan(X).all() or np.isnan(y).all()"
   ]
  },
  {
   "cell_type": "code",
   "execution_count": 4,
   "metadata": {
    "execution": {
     "iopub.execute_input": "2021-09-21T07:13:50.570478Z",
     "iopub.status.busy": "2021-09-21T07:13:50.570256Z",
     "iopub.status.idle": "2021-09-21T07:13:50.580617Z",
     "shell.execute_reply": "2021-09-21T07:13:50.579590Z",
     "shell.execute_reply.started": "2021-09-21T07:13:50.570455Z"
    }
   },
   "outputs": [],
   "source": [
    "# Splitting Test Train Dataset\n",
    "X_train, X_test, y_train, y_test = train_test_split(X, y, test_size=0.2)"
   ]
  },
  {
   "cell_type": "code",
   "execution_count": 5,
   "metadata": {
    "execution": {
     "iopub.execute_input": "2021-09-21T07:13:50.583222Z",
     "iopub.status.busy": "2021-09-21T07:13:50.582201Z",
     "iopub.status.idle": "2021-09-21T07:13:50.594856Z",
     "shell.execute_reply": "2021-09-21T07:13:50.594037Z",
     "shell.execute_reply.started": "2021-09-21T07:13:50.583179Z"
    }
   },
   "outputs": [],
   "source": [
    "# Normalisation\n",
    "scalar_X = StandardScaler()\n",
    "\n",
    "X_train = scalar_X.fit_transform(X_train)\n",
    "X_test = scalar_X.transform(X_test)"
   ]
  },
  {
   "cell_type": "markdown",
   "metadata": {},
   "source": [
    "# Training"
   ]
  },
  {
   "cell_type": "code",
   "execution_count": 6,
   "metadata": {
    "execution": {
     "iopub.execute_input": "2021-09-21T07:13:50.596449Z",
     "iopub.status.busy": "2021-09-21T07:13:50.596232Z",
     "iopub.status.idle": "2021-09-21T07:13:50.608262Z",
     "shell.execute_reply": "2021-09-21T07:13:50.607332Z",
     "shell.execute_reply.started": "2021-09-21T07:13:50.596425Z"
    }
   },
   "outputs": [],
   "source": [
    "from sklearn.tree import DecisionTreeClassifier\n",
    "from sklearn.linear_model import LogisticRegression\n",
    "from sklearn.naive_bayes import GaussianNB\n",
    "from sklearn.svm import SVC\n",
    "from sklearn.metrics import accuracy_score, f1_score"
   ]
  },
  {
   "cell_type": "code",
   "execution_count": 7,
   "metadata": {
    "execution": {
     "iopub.execute_input": "2021-09-21T07:13:50.610188Z",
     "iopub.status.busy": "2021-09-21T07:13:50.609846Z",
     "iopub.status.idle": "2021-09-21T07:13:50.622397Z",
     "shell.execute_reply": "2021-09-21T07:13:50.621720Z",
     "shell.execute_reply.started": "2021-09-21T07:13:50.610147Z"
    }
   },
   "outputs": [],
   "source": [
    "dt = DecisionTreeClassifier()\n",
    "lr = LogisticRegression()\n",
    "nb = GaussianNB()\n",
    "svm = SVC()"
   ]
  },
  {
   "cell_type": "code",
   "execution_count": 8,
   "metadata": {
    "execution": {
     "iopub.execute_input": "2021-09-21T07:13:50.624510Z",
     "iopub.status.busy": "2021-09-21T07:13:50.623475Z",
     "iopub.status.idle": "2021-09-21T07:13:50.650283Z",
     "shell.execute_reply": "2021-09-21T07:13:50.649659Z",
     "shell.execute_reply.started": "2021-09-21T07:13:50.624477Z"
    }
   },
   "outputs": [
    {
     "data": {
      "text/plain": [
       "SVC()"
      ]
     },
     "execution_count": 8,
     "metadata": {},
     "output_type": "execute_result"
    }
   ],
   "source": [
    "# Training\n",
    "dt.fit(X_train, y_train)\n",
    "lr.fit(X_train, y_train)\n",
    "nb.fit(X_train, y_train)\n",
    "svm.fit(X_train, y_train)"
   ]
  },
  {
   "cell_type": "markdown",
   "metadata": {},
   "source": [
    "# Analysis"
   ]
  },
  {
   "cell_type": "code",
   "execution_count": 9,
   "metadata": {
    "execution": {
     "iopub.execute_input": "2021-09-21T07:13:50.653077Z",
     "iopub.status.busy": "2021-09-21T07:13:50.652170Z",
     "iopub.status.idle": "2021-09-21T07:13:50.658428Z",
     "shell.execute_reply": "2021-09-21T07:13:50.657516Z",
     "shell.execute_reply.started": "2021-09-21T07:13:50.653044Z"
    }
   },
   "outputs": [],
   "source": [
    "y_pred_dt = dt.predict(X_test)\n",
    "y_pred_lr = lr.predict(X_test)\n",
    "y_pred_nb = nb.predict(X_test)\n",
    "y_pred_svm = svm.predict(X_test)"
   ]
  },
  {
   "cell_type": "code",
   "execution_count": 10,
   "metadata": {
    "execution": {
     "iopub.execute_input": "2021-09-21T07:13:50.660136Z",
     "iopub.status.busy": "2021-09-21T07:13:50.659907Z",
     "iopub.status.idle": "2021-09-21T07:13:50.677560Z",
     "shell.execute_reply": "2021-09-21T07:13:50.676641Z",
     "shell.execute_reply.started": "2021-09-21T07:13:50.660111Z"
    }
   },
   "outputs": [],
   "source": [
    "pred = [y_pred_dt, y_pred_lr, y_pred_nb, y_pred_svm]\n",
    "\n",
    "f1 = [f1_score(y_test, y, average=\"macro\") for y in pred]\n",
    "acc = [accuracy_score(y_test, y) for y in pred]"
   ]
  },
  {
   "cell_type": "code",
   "execution_count": 11,
   "metadata": {
    "execution": {
     "iopub.execute_input": "2021-09-21T07:13:50.679214Z",
     "iopub.status.busy": "2021-09-21T07:13:50.678882Z",
     "iopub.status.idle": "2021-09-21T07:13:50.691206Z",
     "shell.execute_reply": "2021-09-21T07:13:50.690195Z",
     "shell.execute_reply.started": "2021-09-21T07:13:50.679177Z"
    }
   },
   "outputs": [
    {
     "name": "stdout",
     "output_type": "stream",
     "text": [
      "\u001b[1m F1 Score \u001b[0m\n",
      "Decesion Tree: 0.97\n",
      "Logistic Regression: 0.97\n",
      "Naive Bayes: 0.97\n",
      "SVM: 0.94\n",
      "\n",
      "\u001b[1m Accuracy \u001b[0m\n",
      "Decesion Tree: 0.97\n",
      "Logistic Regression: 0.97\n",
      "Naive Bayes: 0.97\n",
      "SVM: 0.93\n"
     ]
    }
   ],
   "source": [
    "print(\"\\033[1m F1 Score \\033[0m\")\n",
    "classifier = [\"Decesion Tree\", \"Logistic Regression\", \"Naive Bayes\", \"SVM\"]\n",
    "\n",
    "for i in range(len(f1)):\n",
    "    print(f\"{classifier[i]}: {f1[i]:0.2f}\")\n",
    "\n",
    "print()\n",
    "print(\"\\033[1m Accuracy \\033[0m\")\n",
    "\n",
    "for i in range(len(f1)):\n",
    "    print(f\"{classifier[i]}: {acc[i]:0.2f}\")"
   ]
  }
 ],
 "metadata": {
  "kernelspec": {
   "display_name": "Python 3",
   "language": "python",
   "name": "python3"
  },
  "language_info": {
   "codemirror_mode": {
    "name": "ipython",
    "version": 3
   },
   "file_extension": ".py",
   "mimetype": "text/x-python",
   "name": "python",
   "nbconvert_exporter": "python",
   "pygments_lexer": "ipython3",
   "version": "3.8.8"
  }
 },
 "nbformat": 4,
 "nbformat_minor": 4
}
